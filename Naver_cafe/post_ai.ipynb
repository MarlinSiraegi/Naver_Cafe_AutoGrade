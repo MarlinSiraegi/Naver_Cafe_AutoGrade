{
 "cells": [
  {
   "cell_type": "code",
   "execution_count": 15,
   "metadata": {},
   "outputs": [
    {
     "name": "stdout",
     "output_type": "stream",
     "text": [
      "              precision    recall  f1-score   support\n",
      "\n",
      "           0       0.60      0.45      0.51        67\n",
      "           1       0.37      0.58      0.45        38\n",
      "           2       0.77      0.82      0.79        44\n",
      "           3       0.81      0.81      0.81        21\n",
      "           4       1.00      0.75      0.86        28\n",
      "\n",
      "    accuracy                           0.64       198\n",
      "   macro avg       0.71      0.68      0.68       198\n",
      "weighted avg       0.67      0.64      0.64       198\n",
      "\n",
      "accuracy: 0.6363636363636364\n"
     ]
    },
    {
     "name": "stderr",
     "output_type": "stream",
     "text": [
      "c:\\Users\\user\\AppData\\Local\\Programs\\Python\\Python312\\Lib\\site-packages\\sklearn\\ensemble\\_weight_boosting.py:527: FutureWarning: The SAMME.R algorithm (the default) is deprecated and will be removed in 1.6. Use the SAMME algorithm to circumvent this warning.\n",
      "  warnings.warn(\n"
     ]
    }
   ],
   "source": [
    "import pandas as pd\n",
    "import tensorflow as tf\n",
    "from tensorflow.keras.preprocessing.text import Tokenizer\n",
    "from tensorflow.keras.preprocessing.sequence import pad_sequences\n",
    "from sklearn.model_selection import train_test_split\n",
    "from sklearn.tree import DecisionTreeClassifier\n",
    "from sklearn.ensemble import AdaBoostClassifier\n",
    "from sklearn.metrics import classification_report\n",
    "from sklearn.metrics import accuracy_score\n",
    "\n",
    "# 데이터 로드 (헤더가 없음을 명시)\n",
    "df = pd.read_csv('post_list.csv', encoding='cp949', header=None)\n",
    "\n",
    "# 열 이름 지정\n",
    "df.columns = ['Title', 'AuthorGrade']\n",
    "\n",
    "# 텍스트 데이터와 레이블 분리\n",
    "texts = df['Title'].values\n",
    "labels = df['AuthorGrade'].values\n",
    "\n",
    "# 텍스트 토큰화\n",
    "tokenizer = Tokenizer()\n",
    "tokenizer.fit_on_texts(texts)\n",
    "sequences = tokenizer.texts_to_sequences(texts)\n",
    "\n",
    "# 시퀀스 패딩\n",
    "max_len = 100  # 시퀀스의 최대 길이\n",
    "padded_sequences = pad_sequences(sequences, maxlen=max_len)\n",
    "\n",
    "# 학습 데이터와 검증 데이터로 분리\n",
    "X_train, X_val, y_train, y_val = train_test_split(padded_sequences, labels, test_size=0.2, random_state=42)\n",
    "\n",
    "# AdaBoost 모델 생성\n",
    "base_estimator = DecisionTreeClassifier(max_depth=1)\n",
    "model = AdaBoostClassifier(estimator=base_estimator, n_estimators=50, learning_rate=1.0, random_state=42)\n",
    "\n",
    "# 모델 학습\n",
    "model.fit(X_train, y_train)\n",
    "\n",
    "# 검증 데이터로 평가\n",
    "y_pred = model.predict(X_val)\n",
    "print(classification_report(y_val, y_pred))\n",
    "print('accuracy:', accuracy_score(y_val, y_pred))"
   ]
  },
  {
   "cell_type": "code",
   "execution_count": 16,
   "metadata": {},
   "outputs": [
    {
     "name": "stdout",
     "output_type": "stream",
     "text": [
      "당신의 등급은 진드기입니다.\n"
     ]
    }
   ],
   "source": [
    "# 등급 매핑 사전 정의\n",
    "grade_mapping = {0: '진드기', 1: '닭둘기', 2: '왁무새', 3: '침팬치', 4: '느그자'}\n",
    "\n",
    "# 예측 함수 정의\n",
    "def predict_author_grade(text):\n",
    "    sequence = tokenizer.texts_to_sequences([text])\n",
    "    padded_sequence = pad_sequences(sequence, maxlen=max_len)\n",
    "    prediction = model.predict(padded_sequence)\n",
    "    return prediction[0]\n",
    "\n",
    "# 예측 예시\n",
    "example_text = \"0글 해야되니까 나가주세요 핸님들\"\n",
    "predicted_grade = predict_author_grade(example_text)\n",
    "grade_text = grade_mapping[predicted_grade]\n",
    "print(f'당신의 등급은 {grade_text}입니다.')"
   ]
  }
 ],
 "metadata": {
  "kernelspec": {
   "display_name": "Python 3",
   "language": "python",
   "name": "python3"
  },
  "language_info": {
   "codemirror_mode": {
    "name": "ipython",
    "version": 3
   },
   "file_extension": ".py",
   "mimetype": "text/x-python",
   "name": "python",
   "nbconvert_exporter": "python",
   "pygments_lexer": "ipython3",
   "version": "3.12.3"
  }
 },
 "nbformat": 4,
 "nbformat_minor": 2
}
