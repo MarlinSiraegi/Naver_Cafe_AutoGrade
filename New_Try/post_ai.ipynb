{
 "cells": [
  {
   "cell_type": "code",
   "execution_count": 3,
   "metadata": {},
   "outputs": [
    {
     "name": "stdout",
     "output_type": "stream",
     "text": [
      "              precision    recall  f1-score   support\n",
      "\n",
      "           0       0.86      0.88      0.87        67\n",
      "           1       0.88      0.76      0.82        38\n",
      "           2       0.81      0.89      0.85        44\n",
      "           3       0.90      0.90      0.90        21\n",
      "           4       0.93      0.89      0.91        28\n",
      "\n",
      "    accuracy                           0.86       198\n",
      "   macro avg       0.88      0.87      0.87       198\n",
      "weighted avg       0.87      0.86      0.86       198\n",
      "\n",
      "accuracy: 0.8636363636363636\n"
     ]
    }
   ],
   "source": [
    "import pandas as pd\n",
    "import tensorflow as tf\n",
    "from tensorflow.keras.preprocessing.text import Tokenizer\n",
    "from tensorflow.keras.preprocessing.sequence import pad_sequences\n",
    "from sklearn.model_selection import train_test_split\n",
    "from sklearn.tree import DecisionTreeClassifier\n",
    "from sklearn.ensemble import AdaBoostClassifier\n",
    "from sklearn.metrics import classification_report\n",
    "from sklearn.metrics import accuracy_score\n",
    "\n",
    "# 데이터 로드 (헤더가 없음을 명시)\n",
    "df = pd.read_csv('post_list.csv', encoding='cp949', header=None)\n",
    "\n",
    "# 열 이름 지정\n",
    "df.columns = ['Title', 'AuthorGrade']\n",
    "\n",
    "# 텍스트 데이터와 레이블 분리\n",
    "texts = df['Title'].values\n",
    "labels = df['AuthorGrade'].values\n",
    "\n",
    "# 텍스트 토큰화\n",
    "tokenizer = Tokenizer()\n",
    "tokenizer.fit_on_texts(texts)\n",
    "sequences = tokenizer.texts_to_sequences(texts)\n",
    "\n",
    "# 시퀀스 패딩\n",
    "max_len = 100  # 시퀀스의 최대 길이\n",
    "padded_sequences = pad_sequences(sequences, maxlen=max_len)\n",
    "\n",
    "# 학습 데이터와 검증 데이터로 분리\n",
    "X_train, X_val, y_train, y_val = train_test_split(padded_sequences, labels, test_size=0.2, random_state=42)\n",
    "\n",
    "# AdaBoost 모델 생성\n",
    "model = DecisionTreeClassifier()\n",
    "\n",
    "# 모델 학습\n",
    "model.fit(X_train, y_train)\n",
    "\n",
    "# 검증 데이터로 평가\n",
    "y_pred = model.predict(X_val)\n",
    "print(classification_report(y_val, y_pred))\n",
    "print('accuracy:', accuracy_score(y_val, y_pred))"
   ]
  },
  {
   "cell_type": "code",
   "execution_count": 4,
   "metadata": {},
   "outputs": [
    {
     "name": "stdout",
     "output_type": "stream",
     "text": [
      "당신의 등급은 진드기입니다.\n"
     ]
    }
   ],
   "source": [
    "# 등급 매핑 사전 정의\n",
    "grade_mapping = {0: '진드기', 1: '닭둘기', 2: '왁무새', 3: '침팬치', 4: '느그자'}\n",
    "\n",
    "# 예측 함수 정의\n",
    "def predict_author_grade(text):\n",
    "    sequence = tokenizer.texts_to_sequences([text])\n",
    "    padded_sequence = pad_sequences(sequence, maxlen=max_len)\n",
    "    prediction = model.predict(padded_sequence)\n",
    "    return prediction[0]\n",
    "\n",
    "# 예측 예시\n",
    "example_text = \"이곳에 제목을 입력하세요.\"\n",
    "predicted_grade = predict_author_grade(example_text)\n",
    "grade_text = grade_mapping[predicted_grade]\n",
    "print(f'당신의 등급은 {grade_text}입니다.')"
   ]
  }
 ],
 "metadata": {
  "kernelspec": {
   "display_name": "Python 3",
   "language": "python",
   "name": "python3"
  },
  "language_info": {
   "codemirror_mode": {
    "name": "ipython",
    "version": 3
   },
   "file_extension": ".py",
   "mimetype": "text/x-python",
   "name": "python",
   "nbconvert_exporter": "python",
   "pygments_lexer": "ipython3",
   "version": "3.12.3"
  }
 },
 "nbformat": 4,
 "nbformat_minor": 2
}
